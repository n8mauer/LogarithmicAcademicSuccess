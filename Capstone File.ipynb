{
 "cells": [
  {
   "cell_type": "code",
   "execution_count": null,
   "metadata": {},
   "outputs": [],
   "source": [
    "import numpy as np\n",
    "import pandas as pd\n",
    "import sklearn.linear_model import LinearRegression\n",
    "\n",
    "# Assuming 'df' is your DataFrame containing the data\n",
    "df['log_academic_success'] = np.log(df['academic_success'])\n",
    "df['log_study_hours'] = np.log(df['study_hours'])\n",
    "df['log_attendance'] = np.log(df['attendance'])\n",
    "# Transform other relevant factors similarly\n"
   ]
  },
  {
   "cell_type": "code",
   "execution_count": null,
   "metadata": {},
   "outputs": [],
   "source": [
    "df.head()"
   ]
  },
  {
   "cell_type": "code",
   "execution_count": null,
   "metadata": {},
   "outputs": [],
   "source": [
    "df.dropna(inplace=True)"
   ]
  },
  {
   "cell_type": "code",
   "execution_count": null,
   "metadata": {},
   "outputs": [],
   "source": [
    "#Log-Log Regression using Scikit-Learn\n",
    "\n",
    "# Example data\n",
    "x = np.array([1, 2, 3, 4, 5])\n",
    "y = np.array([2, 4, 6, 8, 10])\n",
    "\n",
    "# Log transform the data\n",
    "log_x = np.log(x).reshape(-1, 1)\n",
    "log_y = np.log(y)\n",
    "\n",
    "# Fit the linear regression model\n",
    "model = LinearRegression()\n",
    "model.fit(log_x, log_y)\n",
    "\n",
    "# Coefficients\n",
    "slope = model.coef_[0]\n",
    "intercept = model.intercept_\n",
    "\n",
    "print(f\"Slope: {slope}, Intercept: {intercept}\")\n"
   ]
  },
  {
   "cell_type": "code",
   "execution_count": null,
   "metadata": {},
   "outputs": [],
   "source": [
    "from sklearn.linear_model import LinearRegression\n",
    "\n",
    "#fit linear regression model to transfored data\n",
    "# Selecting the transformed variables\n",
    "X = df[['log_study_hours', 'log_attendance']]  # Add other log-transformed factors\n",
    "y = df['log_academic_success']\n",
    "\n",
    "# Fitting the model\n",
    "model = LinearRegression()\n",
    "model.fit(X, y)\n",
    "\n",
    "# Getting the coefficients\n",
    "coefficients = model.coef_\n",
    "intercept = model.intercept_\n",
    "\n",
    "print(f\"Intercept: {intercept}, Coefficients: {coefficients}\")\n"
   ]
  }
 ],
 "metadata": {
  "language_info": {
   "name": "python"
  }
 },
 "nbformat": 4,
 "nbformat_minor": 2
}
